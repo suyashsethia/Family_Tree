{
 "cells": [
  {
   "cell_type": "code",
   "execution_count": 2,
   "metadata": {},
   "outputs": [
    {
     "name": "stdout",
     "output_type": "stream",
     "text": [
      "0\n",
      "1\n",
      "2\n",
      "3\n",
      "4\n"
     ]
    },
    {
     "name": "stderr",
     "output_type": "stream",
     "text": [
      "/tmp/ipykernel_15561/3622720642.py:36: SettingWithCopyWarning: \n",
      "A value is trying to be set on a copy of a slice from a DataFrame.\n",
      "Try using .loc[row_indexer,col_indexer] = value instead\n",
      "\n",
      "See the caveats in the documentation: https://pandas.pydata.org/pandas-docs/stable/user_guide/indexing.html#returning-a-view-versus-a-copy\n",
      "  temp['this_gen_ind'] = temp.apply(lambda x: 1 if x['Person 2'] in incomp else 0, axis = 1)\n",
      "/tmp/ipykernel_15561/3622720642.py:36: SettingWithCopyWarning: \n",
      "A value is trying to be set on a copy of a slice from a DataFrame.\n",
      "Try using .loc[row_indexer,col_indexer] = value instead\n",
      "\n",
      "See the caveats in the documentation: https://pandas.pydata.org/pandas-docs/stable/user_guide/indexing.html#returning-a-view-versus-a-copy\n",
      "  temp['this_gen_ind'] = temp.apply(lambda x: 1 if x['Person 2'] in incomp else 0, axis = 1)\n",
      "/tmp/ipykernel_15561/3622720642.py:36: SettingWithCopyWarning: \n",
      "A value is trying to be set on a copy of a slice from a DataFrame.\n",
      "Try using .loc[row_indexer,col_indexer] = value instead\n",
      "\n",
      "See the caveats in the documentation: https://pandas.pydata.org/pandas-docs/stable/user_guide/indexing.html#returning-a-view-versus-a-copy\n",
      "  temp['this_gen_ind'] = temp.apply(lambda x: 1 if x['Person 2'] in incomp else 0, axis = 1)\n",
      "/tmp/ipykernel_15561/3622720642.py:36: SettingWithCopyWarning: \n",
      "A value is trying to be set on a copy of a slice from a DataFrame.\n",
      "Try using .loc[row_indexer,col_indexer] = value instead\n",
      "\n",
      "See the caveats in the documentation: https://pandas.pydata.org/pandas-docs/stable/user_guide/indexing.html#returning-a-view-versus-a-copy\n",
      "  temp['this_gen_ind'] = temp.apply(lambda x: 1 if x['Person 2'] in incomp else 0, axis = 1)\n",
      "/tmp/ipykernel_15561/3622720642.py:36: SettingWithCopyWarning: \n",
      "A value is trying to be set on a copy of a slice from a DataFrame.\n",
      "Try using .loc[row_indexer,col_indexer] = value instead\n",
      "\n",
      "See the caveats in the documentation: https://pandas.pydata.org/pandas-docs/stable/user_guide/indexing.html#returning-a-view-versus-a-copy\n",
      "  temp['this_gen_ind'] = temp.apply(lambda x: 1 if x['Person 2'] in incomp else 0, axis = 1)\n"
     ]
    },
    {
     "data": {
      "text/plain": [
       "'sample_ancestry.gv.svg.svg'"
      ]
     },
     "execution_count": 2,
     "metadata": {},
     "output_type": "execute_result"
    }
   ],
   "source": [
    "\n",
    "from graphviz import Digraph\n",
    "import pandas as pd\n",
    "\n",
    "ancestry = pd.read_csv('Surajmal_sethia_Family.csv')\n",
    "earl_ans = ancestry.loc[ancestry['Relation'] == 'Earliest Ancestor', 'Person 1'].iloc[0]\n",
    "ancestry['recorded_ind'] = 0    # Flag for indicating individuals whose data has been recorded in the tree\n",
    "\n",
    "incomp = [earl_ans]\n",
    "comp = []\n",
    "\n",
    "dot = Digraph(comment = 'Ancestry', graph_attr = {'splines':'ortho'})\n",
    "node_nm = []\n",
    "\n",
    "# Initializing first node\n",
    "det = str(ancestry.loc[ancestry['Person 1'] == earl_ans, 'Details'][0])\n",
    "g = ancestry.loc[ancestry['Person 1'] == earl_ans, 'Gender'][0]\n",
    "sh = 'rect' if g == 'M' else 'ellipse'\n",
    "dot.node(earl_ans, earl_ans, tooltip = det, shape = sh,fontsize='20', width='2.5', height='1.5')\n",
    "node_nm.append(earl_ans)\n",
    "\n",
    "ancestry.loc[ancestry['Person 1'] == earl_ans, 'recorded_ind'] = 1\n",
    "\n",
    "# max_iter should be greater than number of generations\n",
    "max_iter = 5\n",
    "# Define colors for gender\n",
    "colors = {\"male\": \"lightblue\", \"female\": \"lightpink\"}\n",
    "border_colors = {\"male\": \"blue\", \"female\": \"pink\"}\n",
    "\n",
    "for i in range(0, max_iter):\n",
    "    print(i)\n",
    "    temp = ancestry[ancestry['recorded_ind'] == 0]\n",
    "\n",
    "    if len(temp) == 0:      # Break loop when all individuals have been recorded\n",
    "        break\n",
    "    else:\n",
    "        temp['this_gen_ind'] = temp.apply(lambda x: 1 if x['Person 2'] in incomp else 0, axis = 1)\n",
    "\n",
    "        # Spouse Relationship\n",
    "        this_gen = temp[(temp['this_gen_ind'] == 1) & (temp['Relation'] == 'Spouse')]\n",
    "        if len(this_gen) > 0:\n",
    "            for j in range(0, len(this_gen)):\n",
    "                per1 = this_gen['Person 1'].iloc[j]\n",
    "                per2 = this_gen['Person 2'].iloc[j]\n",
    "                det = str(this_gen['Details'].iloc[j])\n",
    "                g = this_gen['Gender'].iloc[j]\n",
    "                sh = 'rect' if g == 'M' else 'ellipse'\n",
    "                with dot.subgraph() as subs:\n",
    "                    subs.attr(rank = 'same')\n",
    "                    subs.node(per1, per1, tooltip = det, shape = sh, fillcolor = \"red\",fontsize='20', width='2.5', height='1.5')\n",
    "                    node_nm.append(per1)\n",
    "                    subs.edge(per2, per1, arrowhead = 'none', color = \"black:invis:black\")\n",
    "\n",
    "        # Child Relationship\n",
    "        this_gen = temp[(temp['this_gen_ind'] == 1) & (temp['Relation'] == 'Child')]\n",
    "        if len(this_gen) > 0:\n",
    "            for j in range(0, len(this_gen)):\n",
    "                per1 = this_gen['Person 1'].iloc[j]\n",
    "                per2 = this_gen['Person 2'].iloc[j]\n",
    "                det = str(this_gen['Details'].iloc[j])\n",
    "                g = this_gen['Gender'].iloc[j]\n",
    "                sh = 'rect' if g == 'M' else 'ellipse'\n",
    "                dot.node(per1, per1, tooltip = det, shape = sh,fontsize='20', width='2.5', height='1.5')\n",
    "                node_nm.append(per1)\n",
    "                dot.edge(per2, per1)\n",
    "\n",
    "        comp.extend(incomp)\n",
    "        incomp = list(temp.loc[temp['this_gen_ind'] == 1, 'Person 1'])\n",
    "        ancestry['recorded_ind'] = temp.apply(lambda x: 1 if (x['Person 1'] in incomp) | (x['Person 1'] in comp) else 0, axis = 1)\n",
    "dot.attr(rankdir=\"TB\", nodesep=\"3\", ranksep=\"3\")\n",
    "\n",
    "dot.format = 'svg'\n",
    "dot.render('sample_ancestry.gv.svg', view = True)\n"
   ]
  },
  {
   "cell_type": "code",
   "execution_count": null,
   "metadata": {},
   "outputs": [],
   "source": []
  }
 ],
 "metadata": {
  "kernelspec": {
   "display_name": "Python 3",
   "language": "python",
   "name": "python3"
  },
  "language_info": {
   "codemirror_mode": {
    "name": "ipython",
    "version": 3
   },
   "file_extension": ".py",
   "mimetype": "text/x-python",
   "name": "python",
   "nbconvert_exporter": "python",
   "pygments_lexer": "ipython3",
   "version": "3.10.12"
  }
 },
 "nbformat": 4,
 "nbformat_minor": 2
}
